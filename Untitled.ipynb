{
 "cells": [
  {
   "cell_type": "code",
   "execution_count": 1,
   "id": "4ee352f6-d9d0-4579-92d6-afed8283f1f9",
   "metadata": {},
   "outputs": [],
   "source": [
    "# 날린 변수 확인\n",
    "import os\n",
    "from dotenv import load_dotenv\n",
    "import requests\n",
    "from bs4 import BeautifulSoup\n",
    "import json\n",
    "import pandas as pd\n",
    "\n",
    "load_dotenv()\n",
    "SERVICE_KEY = os.getenv('SERVICE_KEY')"
   ]
  },
  {
   "cell_type": "code",
   "execution_count": 2,
   "id": "ebd29893-508a-449e-b6e1-19035df06dba",
   "metadata": {},
   "outputs": [
    {
     "name": "stderr",
     "output_type": "stream",
     "text": [
      "C:\\Users\\skrtk\\AppData\\Local\\Temp\\ipykernel_7392\\2312453805.py:1: DtypeWarning: Columns (9,21,22) have mixed types. Specify dtype option on import or set low_memory=False.\n",
      "  data = pd.read_csv('./data/data.csv')\n",
      "C:\\Users\\skrtk\\AppData\\Local\\Temp\\ipykernel_7392\\2312453805.py:2: DtypeWarning: Columns (5,16) have mixed types. Specify dtype option on import or set low_memory=False.\n",
      "  df = pd.read_csv('./data/df.csv')\n"
     ]
    }
   ],
   "source": [
    "data = pd.read_csv('./data/data.csv')\n",
    "df = pd.read_csv('./data/df.csv')"
   ]
  },
  {
   "cell_type": "code",
   "execution_count": 5,
   "id": "3fd722ac-a42e-4b08-bc36-f97e55b0e562",
   "metadata": {},
   "outputs": [
    {
     "data": {
      "text/plain": [
       "Index(['Unnamed: 0', 'index', 'ACC_YEAR', 'SGG_CD', 'SGG_NM', 'BJDONG_CD',\n",
       "       'BJDONG_NM', 'LAND_GBN', 'LAND_GBN_NM', 'BONBEON', 'BUBEON', 'BLDG_NM',\n",
       "       'DEAL_YMD', 'OBJ_AMT', 'BLDG_AREA', 'TOT_AREA', 'FLOOR', 'RIGHT_GBN',\n",
       "       'CNTL_YMD', 'BUILD_YEAR', 'HOUSE_TYPE', 'REQ_GBN', 'RDEALER_LAWDNM'],\n",
       "      dtype='object')"
      ]
     },
     "execution_count": 5,
     "metadata": {},
     "output_type": "execute_result"
    }
   ],
   "source": [
    "data.columns"
   ]
  },
  {
   "cell_type": "code",
   "execution_count": 8,
   "id": "f0389285-375c-4584-b8d8-b51b9a66c2bd",
   "metadata": {},
   "outputs": [
    {
     "data": {
      "text/plain": [
       "Index(['Unnamed: 0', 'ACC_YEAR', 'SGG_NM', 'BJDONG_NM', 'LAND_GBN_NM',\n",
       "       'BONBEON', 'BUBEON', 'BLDG_NM', 'DEAL_YMD', 'OBJ_AMT', 'BLDG_AREA',\n",
       "       'TOT_AREA', 'FLOOR', 'CNTL_YMD', 'BUILD_YEAR', 'HOUSE_TYPE', 'REQ_GBN'],\n",
       "      dtype='object')"
      ]
     },
     "execution_count": 8,
     "metadata": {},
     "output_type": "execute_result"
    }
   ],
   "source": [
    "df.columns"
   ]
  },
  {
   "cell_type": "code",
   "execution_count": 14,
   "id": "c4339b6c-c3e4-4c11-8a07-75ff1ca996c2",
   "metadata": {},
   "outputs": [
    {
     "data": {
      "text/plain": [
       "['SGG_CD', 'RDEALER_LAWDNM', 'RIGHT_GBN', 'BJDONG_CD', 'LAND_GBN', 'index']"
      ]
     },
     "execution_count": 14,
     "metadata": {},
     "output_type": "execute_result"
    }
   ],
   "source": [
    "# 날린 변수명\n",
    "list(set(data.columns) - set(df.columns))"
   ]
  },
  {
   "cell_type": "code",
   "execution_count": null,
   "id": "4dc5cf0f-039c-484a-8f22-c8259c2a4881",
   "metadata": {},
   "outputs": [],
   "source": []
  }
 ],
 "metadata": {
  "kernelspec": {
   "display_name": "Python 3 (ipykernel)",
   "language": "python",
   "name": "python3"
  },
  "language_info": {
   "codemirror_mode": {
    "name": "ipython",
    "version": 3
   },
   "file_extension": ".py",
   "mimetype": "text/x-python",
   "name": "python",
   "nbconvert_exporter": "python",
   "pygments_lexer": "ipython3",
   "version": "3.11.4"
  }
 },
 "nbformat": 4,
 "nbformat_minor": 5
}
