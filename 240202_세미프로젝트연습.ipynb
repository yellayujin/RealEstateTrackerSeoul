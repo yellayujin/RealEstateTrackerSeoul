{
 "cells": [
  {
   "cell_type": "markdown",
   "id": "a85d588e-6c10-43fd-86c3-c350df5f2122",
   "metadata": {},
   "source": [
    "# 오전\n",
    "- 서울 열린데이터 광장에서 아파트 매매 자료 or 전월세 자료 데이터 수집하여 대시보드 연습 및 정리\n",
    "- \n",
    "공공데이터 포털 API 인증 확인 / 만약 승인 받았다면 해당 데이터로 데이터 수집 하여 대시보드 연습 및 정리- \n",
    "3교시에는 API 인증키 streamlit에서 숨기고 배포하는 방법을 배웁니다. 이 부분은 제가 오후에 영상을 찍어서 유투브에 올려서 공유 드릴게요."
   ]
  },
  {
   "cell_type": "markdown",
   "id": "b557ee98-9eea-444d-97f2-138f58d77083",
   "metadata": {},
   "source": [
    "## 한 것\n",
    "- 기존 코드에서 dotenv로 API 키 숨기고 코랩, 깃허브에 업데이트\n",
    "- 서울시 부동산 전월세가 정보로 시도\n",
    "    - row 아래 태그만 뽑으려 시도(OK)"
   ]
  },
  {
   "cell_type": "code",
   "execution_count": 1,
   "id": "4052b870-4918-4d34-96a6-bda68222b11b",
   "metadata": {},
   "outputs": [
    {
     "name": "stdout",
     "output_type": "stream",
     "text": [
      "200\n"
     ]
    }
   ],
   "source": [
    "import os\n",
    "from dotenv import load_dotenv\n",
    "import requests\n",
    "from bs4 import BeautifulSoup\n",
    "import json\n",
    "import pandas as pd\n",
    "\n",
    "load_dotenv()\n",
    "SERVICE_KEY = os.getenv('SERVICE_KEY')\n",
    "URL = f'http://openapi.seoul.go.kr:8088/{SERVICE_KEY}/xml/tbLnOpendataRtmsV/1/1000/'\n",
    "\n",
    "req = requests.get(URL)\n",
    "req.raise_for_status()\n",
    "print(req.status_code)"
   ]
  },
  {
   "cell_type": "code",
   "execution_count": 4,
   "id": "2056b4d3-5168-4432-b7c5-fffb431723e9",
   "metadata": {},
   "outputs": [
    {
     "name": "stdout",
     "output_type": "stream",
     "text": [
      "<row>\n",
      "<ACC_YEAR>2024</ACC_YEAR>\n",
      "<SGG_CD>11380</SGG_CD>\n",
      "<SGG_NM>은평구</SGG_NM>\n",
      "<BJDONG_CD>10700</BJDONG_CD>\n",
      "<BJDONG_NM>응암동</BJDONG_NM>\n",
      "<LAND_GBN>1</LAND_GBN>\n",
      "<LAND_GBN_NM>대지</LAND_GBN_NM>\n",
      "<BONBEON>0091</BONBEON>\n",
      "<BUBEON>0007</BUBEON>\n",
      "<BLDG_NM>CJ드림시티</BLDG_NM>\n",
      "<DEAL_YMD>20240131</DEAL_YMD>\n",
      "<OBJ_AMT>12900</OBJ_AMT>\n",
      "<BLDG_AREA>24.84</BLDG_AREA>\n",
      "<TOT_AREA>34.070000</TOT_AREA>\n",
      "<FLOOR>15</FLOOR>\n",
      "<RIGHT_GBN/>\n",
      "<CNTL_YMD/>\n",
      "<BUILD_YEAR>2004</BUILD_YEAR>\n",
      "<HOUSE_TYPE>오피스텔</HOUSE_TYPE>\n",
      "<REQ_GBN>중개거래</REQ_GBN>\n",
      "<RDEALER_LAWDNM>서울 은평구</RDEALER_LAWDNM>\n",
      "</row>\n"
     ]
    }
   ],
   "source": [
    "soup = BeautifulSoup(req.text, 'xml')  # xml문서이므로 parser를 'xml'로 함 (html/xhtml이면 'lxml'로. 일반적으로는 lxml이 더 빠르다고 알려져있어서 lxml 많이 쓴대)\n",
    "# print(soup)   # 정상 출력됨\n",
    "\n",
    "# soup.tbLnOpendataRentV   # [' ']은 안되고 .~는 되는데 아마 html 내에서 태그 부르는 방식때문인듯?\n",
    "result = soup.row  # 첫 번째 인덱스 자료에 대해 모든 데이터(컬럼값) 쭉 나옴\n",
    "print(result)"
   ]
  },
  {
   "cell_type": "code",
   "execution_count": 7,
   "id": "bf3fa165-9b18-4eba-8ffd-e82bb1668c37",
   "metadata": {},
   "outputs": [
    {
     "name": "stdout",
     "output_type": "stream",
     "text": [
      "['ACC_YEAR', 'SGG_CD', 'SGG_NM', 'BJDONG_CD', 'BJDONG_NM', 'LAND_GBN', 'LAND_GBN_NM', 'BONBEON', 'BUBEON', 'BLDG_NM', 'DEAL_YMD', 'OBJ_AMT', 'BLDG_AREA', 'TOT_AREA', 'FLOOR', 'RIGHT_GBN', 'CNTL_YMD', 'BUILD_YEAR', 'HOUSE_TYPE', 'REQ_GBN', 'RDEALER_LAWDNM']\n"
     ]
    }
   ],
   "source": [
    "# <row> 아래의 태그 이름 뽑기!!!\n",
    "import xml.etree.ElementTree as ET\n",
    "soup_content = str(soup.row)\n",
    "tree = ET.ElementTree(ET.fromstring(soup_content))\n",
    "root = tree.getroot()\n",
    "\n",
    "\n",
    "col = []\n",
    "for child in root.iter('row'):\n",
    "    for child_2 in child:\n",
    "        # print(child_2.tag)\n",
    "        col.append(child_2.tag)\n",
    "print(col)"
   ]
  },
  {
   "cell_type": "code",
   "execution_count": null,
   "id": "82e520c2-9881-4452-beb3-4eaf97cf4509",
   "metadata": {},
   "outputs": [],
   "source": [
    "result_dict = {colname: [] for colname in col}\n",
    "\n",
    "for colname in col:\n",
    "    for tag in soup.find_all(colname):\n",
    "        result_dict[colname].append(tag.text)\n",
    "result = pd.DataFrame(result_dict)\n",
    "result"
   ]
  },
  {
   "cell_type": "code",
   "execution_count": null,
   "id": "6deb41fc-66ad-4d31-9444-26122212a2c2",
   "metadata": {},
   "outputs": [],
   "source": [
    "result.info()"
   ]
  },
  {
   "cell_type": "markdown",
   "id": "c123b032-0346-4fb7-9abd-7439ecb6f688",
   "metadata": {},
   "source": [
    "# 오후\n",
    "- 미니 프로젝트 조별 미팅 진행(서울 열린 데이터 광장)\n",
    "- 대시보드 개발 범위 정의 및 역할분담, 조장 역할이 매우 중요!\n",
    "    - 몇 년치 데이터 (나눠서) 다룰지 정하고 -> 코드 돌아가는 거 확인 -> 데이터 수집, 저장(csv) -> 합치기(~주말)\n",
    "    - 분석은 월요일부터\n",
    "- PPT 보고서 참조할만한 자료는 수업자료 채널에 올려둘게요\n",
    "- "
   ]
  }
 ],
 "metadata": {
  "kernelspec": {
   "display_name": "Python 3 (ipykernel)",
   "language": "python",
   "name": "python3"
  },
  "language_info": {
   "codemirror_mode": {
    "name": "ipython",
    "version": 3
   },
   "file_extension": ".py",
   "mimetype": "text/x-python",
   "name": "python",
   "nbconvert_exporter": "python",
   "pygments_lexer": "ipython3",
   "version": "3.11.4"
  }
 },
 "nbformat": 4,
 "nbformat_minor": 5
}
