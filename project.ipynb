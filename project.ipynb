{
 "cells": [
  {
   "cell_type": "markdown",
   "id": "bea11365-f0ea-479b-86c3-d21ca6771c9c",
   "metadata": {
    "tags": []
   },
   "source": [
    "# 데이터 불러오기"
   ]
  },
  {
   "cell_type": "code",
   "execution_count": 4,
   "id": "1d0e9559-f056-4b0b-9de3-f1c8a840afa6",
   "metadata": {
    "tags": []
   },
   "outputs": [],
   "source": [
    "import os\n",
    "from dotenv import load_dotenv\n",
    "import requests\n",
    "from bs4 import BeautifulSoup\n",
    "import json\n",
    "import pandas as pd\n",
    "\n",
    "load_dotenv()\n",
    "SERVICE_KEY = os.getenv('SERVICE_KEY')"
   ]
  },
  {
   "cell_type": "code",
   "execution_count": 13,
   "id": "cbac385c-04dd-4e0b-9a6c-9fb38cef048a",
   "metadata": {
    "tags": []
   },
   "outputs": [
    {
     "data": {
      "text/plain": [
       "\"\\ndf=None\\nfor i in range(1,75):\\n    URL=f'http://openapi.seoul.go.kr:8088/{SERVICE_KEY}/json/tbLnOpendataRtmsV/{1+(i-1)*1000}/{i*1000}/'\\n    print(URL)\\n    req= requests.get(URL)\\n    content=req.json()\\n    result=pd.DataFrame(content['tbLnOpendataRtmsV']['row'])\\n    df=pd.concat([df,result])\\ndf=df.reset_index(drop=True)\\ndf\\n\""
      ]
     },
     "execution_count": 13,
     "metadata": {},
     "output_type": "execute_result"
    }
   ],
   "source": [
    "'''\n",
    "df=None\n",
    "for i in range(1,75):\n",
    "    URL=f'http://openapi.seoul.go.kr:8088/{SERVICE_KEY}/json/tbLnOpendataRtmsV/{1+(i-1)*1000}/{i*1000}/'\n",
    "    print(URL)\n",
    "    req= requests.get(URL)\n",
    "    content=req.json()\n",
    "    \n",
    "    result=pd.DataFrame(content['tbLnOpendataRtmsV']['row'])\n",
    "    df=pd.concat([df,result])\n",
    "df=df.reset_index(drop=True)\n",
    "df\n",
    "'''"
   ]
  },
  {
   "cell_type": "code",
   "execution_count": 14,
   "id": "931a4f19-c6ec-4506-bb32-1657eb5859ca",
   "metadata": {
    "tags": []
   },
   "outputs": [],
   "source": [
    "df.to_csv('1-75.csv', index=False)"
   ]
  },
  {
   "cell_type": "code",
   "execution_count": 17,
   "id": "8119c589-3cbb-4aa4-a67b-d64bd9653e69",
   "metadata": {
    "tags": []
   },
   "outputs": [
    {
     "data": {
      "text/html": [
       "<div>\n",
       "<style scoped>\n",
       "    .dataframe tbody tr th:only-of-type {\n",
       "        vertical-align: middle;\n",
       "    }\n",
       "\n",
       "    .dataframe tbody tr th {\n",
       "        vertical-align: top;\n",
       "    }\n",
       "\n",
       "    .dataframe thead th {\n",
       "        text-align: right;\n",
       "    }\n",
       "</style>\n",
       "<table border=\"1\" class=\"dataframe\">\n",
       "  <thead>\n",
       "    <tr style=\"text-align: right;\">\n",
       "      <th></th>\n",
       "      <th>ACC_YEAR</th>\n",
       "      <th>SGG_CD</th>\n",
       "      <th>SGG_NM</th>\n",
       "      <th>BJDONG_CD</th>\n",
       "      <th>BJDONG_NM</th>\n",
       "      <th>LAND_GBN</th>\n",
       "      <th>LAND_GBN_NM</th>\n",
       "      <th>BONBEON</th>\n",
       "      <th>BUBEON</th>\n",
       "      <th>BLDG_NM</th>\n",
       "      <th>...</th>\n",
       "      <th>OBJ_AMT</th>\n",
       "      <th>BLDG_AREA</th>\n",
       "      <th>TOT_AREA</th>\n",
       "      <th>FLOOR</th>\n",
       "      <th>RIGHT_GBN</th>\n",
       "      <th>CNTL_YMD</th>\n",
       "      <th>BUILD_YEAR</th>\n",
       "      <th>HOUSE_TYPE</th>\n",
       "      <th>REQ_GBN</th>\n",
       "      <th>RDEALER_LAWDNM</th>\n",
       "    </tr>\n",
       "  </thead>\n",
       "  <tbody>\n",
       "    <tr>\n",
       "      <th>0</th>\n",
       "      <td>2024</td>\n",
       "      <td>11380</td>\n",
       "      <td>은평구</td>\n",
       "      <td>10700</td>\n",
       "      <td>응암동</td>\n",
       "      <td>1.0</td>\n",
       "      <td>대지</td>\n",
       "      <td>91.0</td>\n",
       "      <td>7.0</td>\n",
       "      <td>CJ드림시티</td>\n",
       "      <td>...</td>\n",
       "      <td>12900</td>\n",
       "      <td>24.84</td>\n",
       "      <td>34.07</td>\n",
       "      <td>15.0</td>\n",
       "      <td>NaN</td>\n",
       "      <td>NaN</td>\n",
       "      <td>2004.0</td>\n",
       "      <td>오피스텔</td>\n",
       "      <td>중개거래</td>\n",
       "      <td>서울 은평구</td>\n",
       "    </tr>\n",
       "    <tr>\n",
       "      <th>1</th>\n",
       "      <td>2024</td>\n",
       "      <td>11140</td>\n",
       "      <td>중구</td>\n",
       "      <td>14500</td>\n",
       "      <td>광희동1가</td>\n",
       "      <td>1.0</td>\n",
       "      <td>대지</td>\n",
       "      <td>89.0</td>\n",
       "      <td>1.0</td>\n",
       "      <td>광희동금호트윈 오피스텔</td>\n",
       "      <td>...</td>\n",
       "      <td>9850</td>\n",
       "      <td>21.96</td>\n",
       "      <td>31.13</td>\n",
       "      <td>14.0</td>\n",
       "      <td>NaN</td>\n",
       "      <td>NaN</td>\n",
       "      <td>1999.0</td>\n",
       "      <td>오피스텔</td>\n",
       "      <td>중개거래</td>\n",
       "      <td>서울 중구</td>\n",
       "    </tr>\n",
       "    <tr>\n",
       "      <th>2</th>\n",
       "      <td>2024</td>\n",
       "      <td>11740</td>\n",
       "      <td>강동구</td>\n",
       "      <td>10900</td>\n",
       "      <td>천호동</td>\n",
       "      <td>1.0</td>\n",
       "      <td>대지</td>\n",
       "      <td>39.0</td>\n",
       "      <td>9.0</td>\n",
       "      <td>미래위너스</td>\n",
       "      <td>...</td>\n",
       "      <td>26400</td>\n",
       "      <td>29.96</td>\n",
       "      <td>19.16</td>\n",
       "      <td>4.0</td>\n",
       "      <td>NaN</td>\n",
       "      <td>NaN</td>\n",
       "      <td>2016.0</td>\n",
       "      <td>연립다세대</td>\n",
       "      <td>중개거래</td>\n",
       "      <td>서울 강동구</td>\n",
       "    </tr>\n",
       "    <tr>\n",
       "      <th>3</th>\n",
       "      <td>2024</td>\n",
       "      <td>11710</td>\n",
       "      <td>송파구</td>\n",
       "      <td>11300</td>\n",
       "      <td>거여동</td>\n",
       "      <td>1.0</td>\n",
       "      <td>대지</td>\n",
       "      <td>605.0</td>\n",
       "      <td>0.0</td>\n",
       "      <td>휴먼빌 시티</td>\n",
       "      <td>...</td>\n",
       "      <td>18000</td>\n",
       "      <td>24.15</td>\n",
       "      <td>35.41</td>\n",
       "      <td>4.0</td>\n",
       "      <td>NaN</td>\n",
       "      <td>NaN</td>\n",
       "      <td>2020.0</td>\n",
       "      <td>오피스텔</td>\n",
       "      <td>중개거래</td>\n",
       "      <td>서울 송파구</td>\n",
       "    </tr>\n",
       "    <tr>\n",
       "      <th>4</th>\n",
       "      <td>2024</td>\n",
       "      <td>11530</td>\n",
       "      <td>구로구</td>\n",
       "      <td>10200</td>\n",
       "      <td>구로동</td>\n",
       "      <td>1.0</td>\n",
       "      <td>대지</td>\n",
       "      <td>44.0</td>\n",
       "      <td>8.0</td>\n",
       "      <td>비즈트위트 오렌지</td>\n",
       "      <td>...</td>\n",
       "      <td>15000</td>\n",
       "      <td>20.80</td>\n",
       "      <td>31.43</td>\n",
       "      <td>8.0</td>\n",
       "      <td>NaN</td>\n",
       "      <td>NaN</td>\n",
       "      <td>2013.0</td>\n",
       "      <td>오피스텔</td>\n",
       "      <td>중개거래</td>\n",
       "      <td>서울 영등포구</td>\n",
       "    </tr>\n",
       "  </tbody>\n",
       "</table>\n",
       "<p>5 rows × 21 columns</p>\n",
       "</div>"
      ],
      "text/plain": [
       "   ACC_YEAR  SGG_CD SGG_NM  BJDONG_CD BJDONG_NM  LAND_GBN LAND_GBN_NM  \\\n",
       "0      2024   11380    은평구      10700       응암동       1.0          대지   \n",
       "1      2024   11140     중구      14500     광희동1가       1.0          대지   \n",
       "2      2024   11740    강동구      10900       천호동       1.0          대지   \n",
       "3      2024   11710    송파구      11300       거여동       1.0          대지   \n",
       "4      2024   11530    구로구      10200       구로동       1.0          대지   \n",
       "\n",
       "   BONBEON  BUBEON       BLDG_NM  ...  OBJ_AMT  BLDG_AREA  TOT_AREA  FLOOR  \\\n",
       "0     91.0     7.0        CJ드림시티  ...    12900      24.84     34.07   15.0   \n",
       "1     89.0     1.0  광희동금호트윈 오피스텔  ...     9850      21.96     31.13   14.0   \n",
       "2     39.0     9.0         미래위너스  ...    26400      29.96     19.16    4.0   \n",
       "3    605.0     0.0        휴먼빌 시티  ...    18000      24.15     35.41    4.0   \n",
       "4     44.0     8.0     비즈트위트 오렌지  ...    15000      20.80     31.43    8.0   \n",
       "\n",
       "   RIGHT_GBN CNTL_YMD  BUILD_YEAR  HOUSE_TYPE REQ_GBN RDEALER_LAWDNM  \n",
       "0        NaN      NaN      2004.0        오피스텔    중개거래         서울 은평구  \n",
       "1        NaN      NaN      1999.0        오피스텔    중개거래          서울 중구  \n",
       "2        NaN      NaN      2016.0       연립다세대    중개거래         서울 강동구  \n",
       "3        NaN      NaN      2020.0        오피스텔    중개거래         서울 송파구  \n",
       "4        NaN      NaN      2013.0        오피스텔    중개거래        서울 영등포구  \n",
       "\n",
       "[5 rows x 21 columns]"
      ]
     },
     "execution_count": 17,
     "metadata": {},
     "output_type": "execute_result"
    }
   ],
   "source": [
    "df = pd.read_csv('1-75.csv')\n",
    "df.head()"
   ]
  },
  {
   "cell_type": "code",
   "execution_count": 19,
   "id": "77ae5c49-2a61-4567-9c2a-730a48243836",
   "metadata": {
    "tags": []
   },
   "outputs": [
    {
     "data": {
      "text/html": [
       "<div>\n",
       "<style scoped>\n",
       "    .dataframe tbody tr th:only-of-type {\n",
       "        vertical-align: middle;\n",
       "    }\n",
       "\n",
       "    .dataframe tbody tr th {\n",
       "        vertical-align: top;\n",
       "    }\n",
       "\n",
       "    .dataframe thead th {\n",
       "        text-align: right;\n",
       "    }\n",
       "</style>\n",
       "<table border=\"1\" class=\"dataframe\">\n",
       "  <thead>\n",
       "    <tr style=\"text-align: right;\">\n",
       "      <th></th>\n",
       "      <th>ACC_YEAR</th>\n",
       "      <th>SGG_CD</th>\n",
       "      <th>SGG_NM</th>\n",
       "      <th>BJDONG_CD</th>\n",
       "      <th>BJDONG_NM</th>\n",
       "      <th>LAND_GBN</th>\n",
       "      <th>LAND_GBN_NM</th>\n",
       "      <th>BONBEON</th>\n",
       "      <th>BUBEON</th>\n",
       "      <th>BLDG_NM</th>\n",
       "      <th>...</th>\n",
       "      <th>OBJ_AMT</th>\n",
       "      <th>BLDG_AREA</th>\n",
       "      <th>TOT_AREA</th>\n",
       "      <th>FLOOR</th>\n",
       "      <th>RIGHT_GBN</th>\n",
       "      <th>CNTL_YMD</th>\n",
       "      <th>BUILD_YEAR</th>\n",
       "      <th>HOUSE_TYPE</th>\n",
       "      <th>REQ_GBN</th>\n",
       "      <th>RDEALER_LAWDNM</th>\n",
       "    </tr>\n",
       "  </thead>\n",
       "  <tbody>\n",
       "    <tr>\n",
       "      <th>73995</th>\n",
       "      <td>2023</td>\n",
       "      <td>11710</td>\n",
       "      <td>송파구</td>\n",
       "      <td>11100</td>\n",
       "      <td>방이동</td>\n",
       "      <td>1.0</td>\n",
       "      <td>대지</td>\n",
       "      <td>50.0</td>\n",
       "      <td>0.0</td>\n",
       "      <td>잠실엘퍼스트오피스텔</td>\n",
       "      <td>...</td>\n",
       "      <td>21000</td>\n",
       "      <td>18.07</td>\n",
       "      <td>30.67</td>\n",
       "      <td>11.0</td>\n",
       "      <td>NaN</td>\n",
       "      <td>NaN</td>\n",
       "      <td>2019.0</td>\n",
       "      <td>오피스텔</td>\n",
       "      <td>중개거래</td>\n",
       "      <td>서울 송파구</td>\n",
       "    </tr>\n",
       "    <tr>\n",
       "      <th>73996</th>\n",
       "      <td>2023</td>\n",
       "      <td>11710</td>\n",
       "      <td>송파구</td>\n",
       "      <td>10200</td>\n",
       "      <td>신천동</td>\n",
       "      <td>1.0</td>\n",
       "      <td>대지</td>\n",
       "      <td>17.0</td>\n",
       "      <td>0.0</td>\n",
       "      <td>파크리오</td>\n",
       "      <td>...</td>\n",
       "      <td>165500</td>\n",
       "      <td>84.90</td>\n",
       "      <td>0.00</td>\n",
       "      <td>12.0</td>\n",
       "      <td>NaN</td>\n",
       "      <td>NaN</td>\n",
       "      <td>2008.0</td>\n",
       "      <td>아파트</td>\n",
       "      <td>중개거래</td>\n",
       "      <td>서울 송파구</td>\n",
       "    </tr>\n",
       "    <tr>\n",
       "      <th>73997</th>\n",
       "      <td>2023</td>\n",
       "      <td>11710</td>\n",
       "      <td>송파구</td>\n",
       "      <td>10700</td>\n",
       "      <td>가락동</td>\n",
       "      <td>1.0</td>\n",
       "      <td>대지</td>\n",
       "      <td>95.0</td>\n",
       "      <td>1.0</td>\n",
       "      <td>가락금호아파트</td>\n",
       "      <td>...</td>\n",
       "      <td>90000</td>\n",
       "      <td>59.91</td>\n",
       "      <td>0.00</td>\n",
       "      <td>12.0</td>\n",
       "      <td>NaN</td>\n",
       "      <td>NaN</td>\n",
       "      <td>1997.0</td>\n",
       "      <td>아파트</td>\n",
       "      <td>중개거래</td>\n",
       "      <td>서울 송파구</td>\n",
       "    </tr>\n",
       "    <tr>\n",
       "      <th>73998</th>\n",
       "      <td>2022</td>\n",
       "      <td>11230</td>\n",
       "      <td>동대문구</td>\n",
       "      <td>10900</td>\n",
       "      <td>휘경동</td>\n",
       "      <td>1.0</td>\n",
       "      <td>대지</td>\n",
       "      <td>183.0</td>\n",
       "      <td>245.0</td>\n",
       "      <td>빌리원</td>\n",
       "      <td>...</td>\n",
       "      <td>10800</td>\n",
       "      <td>15.75</td>\n",
       "      <td>22.53</td>\n",
       "      <td>4.0</td>\n",
       "      <td>NaN</td>\n",
       "      <td>NaN</td>\n",
       "      <td>2014.0</td>\n",
       "      <td>오피스텔</td>\n",
       "      <td>중개거래</td>\n",
       "      <td>서울 동대문구</td>\n",
       "    </tr>\n",
       "    <tr>\n",
       "      <th>73999</th>\n",
       "      <td>2023</td>\n",
       "      <td>11305</td>\n",
       "      <td>강북구</td>\n",
       "      <td>10100</td>\n",
       "      <td>미아동</td>\n",
       "      <td>NaN</td>\n",
       "      <td>NaN</td>\n",
       "      <td>NaN</td>\n",
       "      <td>NaN</td>\n",
       "      <td>NaN</td>\n",
       "      <td>...</td>\n",
       "      <td>26000</td>\n",
       "      <td>105.83</td>\n",
       "      <td>66.00</td>\n",
       "      <td>0.0</td>\n",
       "      <td>NaN</td>\n",
       "      <td>NaN</td>\n",
       "      <td>2001.0</td>\n",
       "      <td>단독다가구</td>\n",
       "      <td>중개거래</td>\n",
       "      <td>서울 강북구</td>\n",
       "    </tr>\n",
       "  </tbody>\n",
       "</table>\n",
       "<p>5 rows × 21 columns</p>\n",
       "</div>"
      ],
      "text/plain": [
       "       ACC_YEAR  SGG_CD SGG_NM  BJDONG_CD BJDONG_NM  LAND_GBN LAND_GBN_NM  \\\n",
       "73995      2023   11710    송파구      11100       방이동       1.0          대지   \n",
       "73996      2023   11710    송파구      10200       신천동       1.0          대지   \n",
       "73997      2023   11710    송파구      10700       가락동       1.0          대지   \n",
       "73998      2022   11230   동대문구      10900       휘경동       1.0          대지   \n",
       "73999      2023   11305    강북구      10100       미아동       NaN         NaN   \n",
       "\n",
       "       BONBEON  BUBEON     BLDG_NM  ...  OBJ_AMT  BLDG_AREA  TOT_AREA  FLOOR  \\\n",
       "73995     50.0     0.0  잠실엘퍼스트오피스텔  ...    21000      18.07     30.67   11.0   \n",
       "73996     17.0     0.0        파크리오  ...   165500      84.90      0.00   12.0   \n",
       "73997     95.0     1.0     가락금호아파트  ...    90000      59.91      0.00   12.0   \n",
       "73998    183.0   245.0         빌리원  ...    10800      15.75     22.53    4.0   \n",
       "73999      NaN     NaN         NaN  ...    26000     105.83     66.00    0.0   \n",
       "\n",
       "       RIGHT_GBN CNTL_YMD  BUILD_YEAR  HOUSE_TYPE REQ_GBN RDEALER_LAWDNM  \n",
       "73995        NaN      NaN      2019.0        오피스텔    중개거래         서울 송파구  \n",
       "73996        NaN      NaN      2008.0         아파트    중개거래         서울 송파구  \n",
       "73997        NaN      NaN      1997.0         아파트    중개거래         서울 송파구  \n",
       "73998        NaN      NaN      2014.0        오피스텔    중개거래        서울 동대문구  \n",
       "73999        NaN      NaN      2001.0       단독다가구    중개거래         서울 강북구  \n",
       "\n",
       "[5 rows x 21 columns]"
      ]
     },
     "execution_count": 19,
     "metadata": {},
     "output_type": "execute_result"
    }
   ],
   "source": [
    "df.tail()"
   ]
  },
  {
   "cell_type": "code",
   "execution_count": 21,
   "id": "62a2f913-ed23-4fa9-b839-910a6f4b6ab7",
   "metadata": {
    "tags": []
   },
   "outputs": [
    {
     "data": {
      "text/plain": [
       "2023    68916\n",
       "2024     4795\n",
       "2022      289\n",
       "Name: ACC_YEAR, dtype: int64"
      ]
     },
     "execution_count": 21,
     "metadata": {},
     "output_type": "execute_result"
    }
   ],
   "source": [
    "df['ACC_YEAR'].value_counts()"
   ]
  },
  {
   "cell_type": "markdown",
   "id": "41cedc0e-bd49-46e1-9779-268456c27f56",
   "metadata": {},
   "source": [
    "# 데이터 탐색"
   ]
  },
  {
   "cell_type": "code",
   "execution_count": 62,
   "id": "5d2353ce-a1b4-4b2f-8609-8cfed32165f0",
   "metadata": {
    "tags": []
   },
   "outputs": [
    {
     "name": "stderr",
     "output_type": "stream",
     "text": [
      "C:\\Users\\skrtk\\AppData\\Local\\Temp\\ipykernel_3268\\980361839.py:1: DtypeWarning: Columns (5,16) have mixed types. Specify dtype option on import or set low_memory=False.\n",
      "  df = pd.read_csv('./data/df.csv')\n"
     ]
    },
    {
     "name": "stdout",
     "output_type": "stream",
     "text": [
      "<class 'pandas.core.frame.DataFrame'>\n",
      "RangeIndex: 454397 entries, 0 to 454396\n",
      "Data columns (total 17 columns):\n",
      " #   Column       Non-Null Count   Dtype  \n",
      "---  ------       --------------   -----  \n",
      " 0   Unnamed: 0   454397 non-null  int64  \n",
      " 1   ACC_YEAR     454397 non-null  int64  \n",
      " 2   SGG_NM       454397 non-null  object \n",
      " 3   BJDONG_NM    454397 non-null  object \n",
      " 4   LAND_GBN_NM  424029 non-null  object \n",
      " 5   BONBEON      424042 non-null  object \n",
      " 6   BUBEON       424042 non-null  float64\n",
      " 7   BLDG_NM      424027 non-null  object \n",
      " 8   DEAL_YMD     454397 non-null  int64  \n",
      " 9   OBJ_AMT      454397 non-null  int64  \n",
      " 10  BLDG_AREA    454397 non-null  float64\n",
      " 11  TOT_AREA     454397 non-null  float64\n",
      " 12  FLOOR        454397 non-null  float64\n",
      " 13  CNTL_YMD     22281 non-null   float64\n",
      " 14  BUILD_YEAR   451720 non-null  float64\n",
      " 15  HOUSE_TYPE   454397 non-null  object \n",
      " 16  REQ_GBN      145541 non-null  object \n",
      "dtypes: float64(6), int64(4), object(7)\n",
      "memory usage: 58.9+ MB\n"
     ]
    }
   ],
   "source": [
    "df = pd.read_csv('./data/df.csv')\n",
    "df.info()"
   ]
  },
  {
   "cell_type": "code",
   "execution_count": 83,
   "id": "b10708d7-65df-4e41-819b-23d393a6b8a1",
   "metadata": {
    "tags": []
   },
   "outputs": [
    {
     "data": {
      "image/png": "[encoded data removed]",
      "text/plain": [
       "<Figure size 700x400 with 1 Axes>"
      ]
     },
     "metadata": {},
     "output_type": "display_data"
    }
   ],
   "source": [
    "import matplotlib.pyplot as plt\n",
    "import seaborn as sns\n",
    "plt.figure(figsize=(7, 4))\n",
    "sns.histplot(df['OBJ_AMT'], bins=30, color='#735CE0', edgecolor='#735CE0')\n",
    "\n",
    "plt.axvline(df['OBJ_AMT'].mean(), color='#B6E7FD', linestyle='dashed', linewidth=2)\n",
    "plt.grid(axis='y')\n",
    "plt.show()"
   ]
  },
  {
   "cell_type": "code",
   "execution_count": 95,
   "id": "d0e7e810-ee39-44a0-bb26-de61d09cc1b6",
   "metadata": {
    "tags": []
   },
   "outputs": [
    {
     "data": {
      "text/plain": [
       "LOW     151937\n",
       "MID     151828\n",
       "HIGH    150632\n",
       "Name: OBJ_AMT_LV, dtype: int64"
      ]
     },
     "execution_count": 95,
     "metadata": {},
     "output_type": "execute_result"
    }
   ],
   "source": [
    "import numpy as np\n",
    "df['OBJ_AMT_LV'] = pd.qcut(df['OBJ_AMT'], q=3, labels=['LOW', 'MID', 'HIGH'])\n",
    "df['OBJ_AMT_LV'].value_counts()"
   ]
  },
  {
   "cell_type": "code",
   "execution_count": 96,
   "id": "bf85ada8-3eb3-4ae3-b99e-71cfb3b1b4a7",
   "metadata": {
    "tags": []
   },
   "outputs": [
    {
     "name": "stdout",
     "output_type": "stream",
     "text": [
      "<class 'pandas.core.frame.DataFrame'>\n",
      "RangeIndex: 454397 entries, 0 to 454396\n",
      "Data columns (total 18 columns):\n",
      " #   Column       Non-Null Count   Dtype   \n",
      "---  ------       --------------   -----   \n",
      " 0   Unnamed: 0   454397 non-null  int64   \n",
      " 1   ACC_YEAR     454397 non-null  int64   \n",
      " 2   SGG_NM       454397 non-null  object  \n",
      " 3   BJDONG_NM    454397 non-null  object  \n",
      " 4   LAND_GBN_NM  424029 non-null  object  \n",
      " 5   BONBEON      424042 non-null  object  \n",
      " 6   BUBEON       424042 non-null  float64 \n",
      " 7   BLDG_NM      424027 non-null  object  \n",
      " 8   DEAL_YMD     454397 non-null  int64   \n",
      " 9   OBJ_AMT      454397 non-null  int64   \n",
      " 10  BLDG_AREA    454397 non-null  float64 \n",
      " 11  TOT_AREA     454397 non-null  float64 \n",
      " 12  FLOOR        454397 non-null  float64 \n",
      " 13  CNTL_YMD     22281 non-null   float64 \n",
      " 14  BUILD_YEAR   451720 non-null  float64 \n",
      " 15  HOUSE_TYPE   454397 non-null  object  \n",
      " 16  REQ_GBN      145541 non-null  object  \n",
      " 17  OBJ_AMT_LV   454397 non-null  category\n",
      "dtypes: category(1), float64(6), int64(4), object(7)\n",
      "memory usage: 59.4+ MB\n"
     ]
    }
   ],
   "source": [
    "df.info()"
   ]
  }
 ],
 "metadata": {
  "kernelspec": {
   "display_name": "Python 3 (ipykernel)",
   "language": "python",
   "name": "python3"
  },
  "language_info": {
   "codemirror_mode": {
    "name": "ipython",
    "version": 3
   },
   "file_extension": ".py",
   "mimetype": "text/x-python",
   "name": "python",
   "nbconvert_exporter": "python",
   "pygments_lexer": "ipython3",
   "version": "3.11.4"
  }
 },
 "nbformat": 4,
 "nbformat_minor": 5
}
